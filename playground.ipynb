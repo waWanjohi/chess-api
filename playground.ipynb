{
 "cells": [
  {
   "cell_type": "code",
   "execution_count": 1,
   "metadata": {},
   "outputs": [],
   "source": [
    "from chess.engine import *\n",
    "from chess.constants import *\n",
    "from chess.constants import *"
   ]
  },
  {
   "cell_type": "code",
   "execution_count": 2,
   "metadata": {},
   "outputs": [],
   "source": [
    "b = ChessEngine()\n",
    "bd = ChessBoard()"
   ]
  },
  {
   "cell_type": "code",
   "execution_count": 3,
   "metadata": {},
   "outputs": [
    {
     "name": "stdout",
     "output_type": "stream",
     "text": [
      "start = [1, 2] ||| end = [3, 2]\n"
     ]
    }
   ],
   "source": [
    "start = [FILES_TO_COLUMNS[B], ROW_NAMES[THREE]]\n",
    "end = [FILES_TO_COLUMNS[D], ROW_NAMES[THREE]]\n",
    "\n",
    "print(f\"{start = } ||| {end = }\")"
   ]
  },
  {
   "cell_type": "code",
   "execution_count": 4,
   "metadata": {},
   "outputs": [
    {
     "name": "stdout",
     "output_type": "stream",
     "text": [
      "FalseP\n"
     ]
    }
   ],
   "source": [
    "name = b.board.board[start[0]][start[1]].__str__()\n",
    "color = b.board.board[start[0]][start[1]].color\n",
    "\n",
    "# if name is not None:\n",
    "#     name = name.name\n",
    "#     color = WHITE if color.color else BLACK\n",
    "\n",
    "# color = ''\n",
    "# name = \"--\"\n",
    "print(f\"{color}{name}\")"
   ]
  },
  {
   "cell_type": "code",
   "execution_count": 5,
   "metadata": {},
   "outputs": [
    {
     "name": "stdout",
     "output_type": "stream",
     "text": [
      "Opponent's piece!\n"
     ]
    }
   ],
   "source": [
    "b.make_move(start, end)"
   ]
  },
  {
   "cell_type": "code",
   "execution_count": 6,
   "metadata": {},
   "outputs": [
    {
     "data": {
      "text/plain": [
       "'[[<chess.pieces.Rook object at 0x7fcfb5ad6a70>, <chess.pieces.Knight object at 0x7fcfb5ad5330>, <chess.pieces.Bishop object at 0x7fcfb5ad5390>, <chess.pieces.Queen object at 0x7fcfb5ad53f0>, <chess.pieces.King object at 0x7fcfb5ad5450>, <chess.pieces.Bishop object at 0x7fcfb5ad54b0>, <chess.pieces.Knight object at 0x7fcfb5ad5510>, <chess.pieces.Rook object at 0x7fcfb5ad5570>], [<chess.pieces.Pawn object at 0x7fcfb5ad55d0>, <chess.pieces.Pawn object at 0x7fcfb5ad5660>, <chess.pieces.Pawn object at 0x7fcfb5ad56c0>, <chess.pieces.Pawn object at 0x7fcfb5ad5720>, <chess.pieces.Pawn object at 0x7fcfb5ad5780>, <chess.pieces.Pawn object at 0x7fcfb5ad57e0>, <chess.pieces.Pawn object at 0x7fcfb5ad5840>, <chess.pieces.Pawn object at 0x7fcfb5ad58a0>], [None, None, None, None, None, None, None, None], [None, None, None, None, None, None, None, None], [None, None, None, None, None, None, None, None], [None, None, None, None, None, None, None, None], [<chess.pieces.Pawn object at 0x7fcfb5ad50c0>, <chess.pieces.Pawn object at 0x7fcfb5ad60b0>, <chess.pieces.Pawn object at 0x7fcfb5ad6110>, <chess.pieces.Pawn object at 0x7fcfb5ad61a0>, <chess.pieces.Pawn object at 0x7fcfb5ad4d90>, <chess.pieces.Pawn object at 0x7fcfb5ad51e0>, <chess.pieces.Pawn object at 0x7fcfb5ad5240>, <chess.pieces.Pawn object at 0x7fcfb5ad52a0>], [<chess.pieces.Rook object at 0x7fcfb5ad6290>, <chess.pieces.Knight object at 0x7fcfb5ad5f30>, <chess.pieces.Bishop object at 0x7fcfb5ad6650>, <chess.pieces.Queen object at 0x7fcfb5ad5180>, <chess.pieces.King object at 0x7fcfb5ad6980>, <chess.pieces.Bishop object at 0x7fcfb5ad6920>, <chess.pieces.Knight object at 0x7fcfb5ad6cb0>, <chess.pieces.Rook object at 0x7fcfb5ad5a80>]]'"
      ]
     },
     "execution_count": 6,
     "metadata": {},
     "output_type": "execute_result"
    }
   ],
   "source": [
    "b.board.board.__str__()"
   ]
  },
  {
   "cell_type": "code",
   "execution_count": 7,
   "metadata": {},
   "outputs": [
    {
     "name": "stdout",
     "output_type": "stream",
     "text": [
      "Opponent's piece!\n"
     ]
    }
   ],
   "source": [
    "b.make_move(start, end)"
   ]
  },
  {
   "cell_type": "code",
   "execution_count": 8,
   "metadata": {},
   "outputs": [
    {
     "data": {
      "text/plain": [
       "'[[<chess.pieces.Rook object at 0x7fcfb5ad6a70>, <chess.pieces.Knight object at 0x7fcfb5ad5330>, <chess.pieces.Bishop object at 0x7fcfb5ad5390>, <chess.pieces.Queen object at 0x7fcfb5ad53f0>, <chess.pieces.King object at 0x7fcfb5ad5450>, <chess.pieces.Bishop object at 0x7fcfb5ad54b0>, <chess.pieces.Knight object at 0x7fcfb5ad5510>, <chess.pieces.Rook object at 0x7fcfb5ad5570>], [<chess.pieces.Pawn object at 0x7fcfb5ad55d0>, <chess.pieces.Pawn object at 0x7fcfb5ad5660>, <chess.pieces.Pawn object at 0x7fcfb5ad56c0>, <chess.pieces.Pawn object at 0x7fcfb5ad5720>, <chess.pieces.Pawn object at 0x7fcfb5ad5780>, <chess.pieces.Pawn object at 0x7fcfb5ad57e0>, <chess.pieces.Pawn object at 0x7fcfb5ad5840>, <chess.pieces.Pawn object at 0x7fcfb5ad58a0>], [None, None, None, None, None, None, None, None], [None, None, None, None, None, None, None, None], [None, None, None, None, None, None, None, None], [None, None, None, None, None, None, None, None], [<chess.pieces.Pawn object at 0x7fcfb5ad50c0>, <chess.pieces.Pawn object at 0x7fcfb5ad60b0>, <chess.pieces.Pawn object at 0x7fcfb5ad6110>, <chess.pieces.Pawn object at 0x7fcfb5ad61a0>, <chess.pieces.Pawn object at 0x7fcfb5ad4d90>, <chess.pieces.Pawn object at 0x7fcfb5ad51e0>, <chess.pieces.Pawn object at 0x7fcfb5ad5240>, <chess.pieces.Pawn object at 0x7fcfb5ad52a0>], [<chess.pieces.Rook object at 0x7fcfb5ad6290>, <chess.pieces.Knight object at 0x7fcfb5ad5f30>, <chess.pieces.Bishop object at 0x7fcfb5ad6650>, <chess.pieces.Queen object at 0x7fcfb5ad5180>, <chess.pieces.King object at 0x7fcfb5ad6980>, <chess.pieces.Bishop object at 0x7fcfb5ad6920>, <chess.pieces.Knight object at 0x7fcfb5ad6cb0>, <chess.pieces.Rook object at 0x7fcfb5ad5a80>]]'"
      ]
     },
     "execution_count": 8,
     "metadata": {},
     "output_type": "execute_result"
    }
   ],
   "source": [
    "b.board.board.__str__()"
   ]
  },
  {
   "cell_type": "code",
   "execution_count": 9,
   "metadata": {},
   "outputs": [
    {
     "data": {
      "text/plain": [
       "[]"
      ]
     },
     "execution_count": 9,
     "metadata": {},
     "output_type": "execute_result"
    }
   ],
   "source": [
    "b.moves_history"
   ]
  },
  {
   "cell_type": "code",
   "execution_count": 10,
   "metadata": {},
   "outputs": [
    {
     "ename": "AttributeError",
     "evalue": "'Pawn' object has no attribute 'get_current_position'",
     "output_type": "error",
     "traceback": [
      "\u001b[0;31m---------------------------------------------------------------------------\u001b[0m",
      "\u001b[0;31mAttributeError\u001b[0m                            Traceback (most recent call last)",
      "\u001b[1;32m/home/stickman/Documents/Stickman-CORP/Interviews/pepster-chess-game-api/playground.ipynb Cell 10'\u001b[0m in \u001b[0;36m<cell line: 1>\u001b[0;34m()\u001b[0m\n\u001b[0;32m----> <a href='vscode-notebook-cell:/home/stickman/Documents/Stickman-CORP/Interviews/pepster-chess-game-api/playground.ipynb#ch0000013?line=0'>1</a>\u001b[0m b\u001b[39m.\u001b[39;49mboard\u001b[39m.\u001b[39;49mboard[start[\u001b[39m0\u001b[39;49m]][start[\u001b[39m1\u001b[39;49m]]\u001b[39m.\u001b[39;49mget_current_position()\n",
      "\u001b[0;31mAttributeError\u001b[0m: 'Pawn' object has no attribute 'get_current_position'"
     ]
    }
   ],
   "source": [
    "b.board.board[start[0]][start[1]].current_position\n",
    "# [start[0], start[1]]\n"
   ]
  },
  {
   "cell_type": "code",
   "execution_count": null,
   "metadata": {},
   "outputs": [],
   "source": [
    "b.board.board[end[0]][end[1]].current_position\n",
    "# [end[0], end[1]]"
   ]
  },
  {
   "cell_type": "code",
   "execution_count": null,
   "metadata": {},
   "outputs": [],
   "source": [
    "ROWS_TO_RANKS"
   ]
  },
  {
   "cell_type": "code",
   "execution_count": null,
   "metadata": {},
   "outputs": [],
   "source": [
    "RANKS_TO_ROWS"
   ]
  },
  {
   "cell_type": "code",
   "execution_count": null,
   "metadata": {},
   "outputs": [],
   "source": [
    "FILES_TO_COLUMNS"
   ]
  },
  {
   "cell_type": "code",
   "execution_count": null,
   "metadata": {},
   "outputs": [],
   "source": [
    "b.moves_history"
   ]
  }
 ],
 "metadata": {
  "kernelspec": {
   "display_name": "Python 3.10.4 ('venv': venv)",
   "language": "python",
   "name": "python3"
  },
  "language_info": {
   "codemirror_mode": {
    "name": "ipython",
    "version": 3
   },
   "file_extension": ".py",
   "mimetype": "text/x-python",
   "name": "python",
   "nbconvert_exporter": "python",
   "pygments_lexer": "ipython3",
   "version": "3.10.4"
  },
  "orig_nbformat": 4,
  "vscode": {
   "interpreter": {
    "hash": "5659748187b75ab58eae438179b4842fb94f6f1097d44309de07ae6fca59265b"
   }
  }
 },
 "nbformat": 4,
 "nbformat_minor": 2
}
